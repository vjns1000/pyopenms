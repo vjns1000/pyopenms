{
 "cells": [
  {
   "cell_type": "code",
   "execution_count": 5,
   "id": "c39f4ceb",
   "metadata": {},
   "outputs": [
    {
     "name": "stdout",
     "output_type": "stream",
     "text": [
      "Requirement already satisfied: pyopenms in e:\\anaconda\\lib\\site-packages (2.7.0)\n",
      "Requirement already satisfied: numpy in e:\\anaconda\\lib\\site-packages (from pyopenms) (1.21.5)\n"
     ]
    }
   ],
   "source": [
    "!pip install pyopenms"
   ]
  },
  {
   "cell_type": "code",
   "execution_count": 6,
   "id": "7c928d5a",
   "metadata": {},
   "outputs": [
    {
     "name": "stdout",
     "output_type": "stream",
     "text": [
      "Help on module pyopenms.Constants in pyopenms:\n",
      "\n",
      "NAME\n",
      "    pyopenms.Constants\n",
      "\n",
      "DESCRIPTION\n",
      "    # @brief Mathematical and physical constants namespace.\n",
      "    # \n",
      "    # This namespace contains definitions for some basic mathematical and physical constants.\n",
      "    # All constants are double precision.\n",
      "\n",
      "DATA\n",
      "    AVOGADRO = 6.0221367e+23\n",
      "    BOHR_RADIUS = 5.29177249e-11\n",
      "    BOLTZMANN = 1.380657e-23\n",
      "    C13C12_MASSDIFF_U = 1.0033548378\n",
      "    CAL_PER_JOULE = 0.2390057361376673\n",
      "    DEG_PER_RAD = 57.29577951308232\n",
      "    E = 2.718281828459045\n",
      "    ELECTRON_MASS = 9.1093897e-31\n",
      "    ELECTRON_MASS_U = 0.0005485799042984105\n",
      "    ELEMENTARY_CHARGE = 1.60217738e-19\n",
      "    EPSILON = 1e-06\n",
      "    F = 96485.31200007845\n",
      "    FARADAY = 96485.31200007845\n",
      "    FINE_STRUCTURE_CONSTANT = 0.00729735\n",
      "    FRAGMENT_ANNOTATION_USERPARAM = 'fragment_annotation'\n",
      "    GAS_CONSTANT = 8.314505189811898\n",
      "    GRAVITATIONAL_CONSTANT = 6.67259e-11\n",
      "    JOULE_PER_CAL = 4.184\n",
      "    MM_PER_INCH = 25.4\n",
      "    MOL = 6.0221367e+23\n",
      "    M_PER_FOOT = 3.048\n",
      "    NA = 6.0221367e+23\n",
      "    NEUTRON_MASS = 1.6749286e-27\n",
      "    NEUTRON_MASS_U = 1.00866491566\n",
      "    PI = 3.141592653589793\n",
      "    PLANCK = 6.6260754e-34\n",
      "    PRECURSOR_ERROR_PPM_USERPARAM = 'precursor_mz_error_ppm'\n",
      "    PROTON_MASS = 1.672623e-27\n",
      "    PROTON_MASS_U = 1.007276466771\n",
      "    R = 8.314505189811898\n",
      "    RAD_PER_DEG = 0.017453292519943295\n",
      "    SPEED_OF_LIGHT = 299792458.0\n",
      "    VACUUM_PERMEABILITY = 1.2566370614359173e-06\n",
      "    VACUUM_PERMITTIVITY = 8.85419e-12\n",
      "    a0 = 5.29177249e-11\n",
      "    c = 299792458.0\n",
      "    e0 = 1.60217738e-19\n",
      "    h = 6.6260754e-34\n",
      "    k = 1.380657e-23\n",
      "\n",
      "FILE\n",
      "    e:\\anaconda\\lib\\site-packages\\pyopenms\\constants.py\n",
      "\n",
      "\n"
     ]
    }
   ],
   "source": [
    "import pyopenms\n",
    "help(pyopenms.Constants)"
   ]
  },
  {
   "cell_type": "code",
   "execution_count": 7,
   "id": "0f6674e5",
   "metadata": {},
   "outputs": [
    {
     "name": "stdout",
     "output_type": "stream",
     "text": [
      "Avogadro's number =  6.0221367e+23\n"
     ]
    }
   ],
   "source": [
    "#Constants\n",
    "print (\"Avogadro's number = \",pyopenms.Constants.AVOGADRO)"
   ]
  },
  {
   "cell_type": "code",
   "execution_count": 11,
   "id": "1b2bb6cb",
   "metadata": {},
   "outputs": [
    {
     "data": {
      "text/plain": [
       "True"
      ]
     },
     "execution_count": 11,
     "metadata": {},
     "output_type": "execute_result"
    }
   ],
   "source": [
    "from pyopenms import *\n",
    "edb = ElementDB()\n",
    "edb.hasElement(\"N\")\n"
   ]
  },
  {
   "cell_type": "code",
   "execution_count": 14,
   "id": "bc334777",
   "metadata": {},
   "outputs": [
    {
     "name": "stdout",
     "output_type": "stream",
     "text": [
      "N\n",
      "Nitrogen\n",
      "14.003074\n",
      "14.006743088800002\n"
     ]
    }
   ],
   "source": [
    "#Elements\n",
    "Nitrogen = edb.getElement(\"N\")\n",
    "print(Nitrogen.getSymbol())\n",
    "print(Nitrogen.getName())\n",
    "print(Nitrogen.getMonoWeight())\n",
    "print(Nitrogen.getAverageWeight())"
   ]
  },
  {
   "cell_type": "code",
   "execution_count": 15,
   "id": "76c83642",
   "metadata": {},
   "outputs": [],
   "source": [
    "#Isotopes\n",
    "Nitrogen_isoDist = {\"mass\": [], \"abundance\": []}\n",
    "isotopes = Nitrogen.getIsotopeDistribution()"
   ]
  },
  {
   "cell_type": "code",
   "execution_count": 19,
   "id": "627c6638",
   "metadata": {},
   "outputs": [
    {
     "name": "stdout",
     "output_type": "stream",
     "text": [
      "Nitrogen isotope =  14.003074 has abundance =  99.63200092315674 %\n",
      "Nitrogen isotope =  15.000109 has abundance =  0.36800000816583633 %\n"
     ]
    }
   ],
   "source": [
    "for i in isotopes.getContainer():\n",
    "    print (\"Nitrogen isotope = \", i.getMZ(), \"has abundance = \", i.getIntensity()*100, \"%\")\n",
    "    Nitrogen_isoDist[\"mass\"].append(i.getMZ())\n",
    "    Nitrogen_isoDist[\"abundance\"].append((i.getIntensity() * 100))\n"
   ]
  },
  {
   "cell_type": "code",
   "execution_count": 20,
   "id": "fed5ea3c",
   "metadata": {},
   "outputs": [
    {
     "name": "stdout",
     "output_type": "stream",
     "text": [
      "Mass difference between Oxygen isotopes: 1.0042169999999988\n",
      "Mass difference between Sulfer isotopes: 0.9993872699999997\n",
      "Relative deviation: -0.4832691134838139 %\n"
     ]
    }
   ],
   "source": [
    "#Mass Defect\n",
    "edb = ElementDB()\n",
    "isotopes = edb.getElement(\"O\").getIsotopeDistribution().getContainer()\n",
    "Oxygen_isotope_difference = isotopes[1].getMZ() - isotopes[0].getMZ()\n",
    "isotopes = edb.getElement(\"S\").getIsotopeDistribution().getContainer()\n",
    "Sulfer_isotope_difference = isotopes[1].getMZ() - isotopes[0].getMZ()\n",
    "\n",
    "print (\"Mass difference between Oxygen isotopes:\", Oxygen_isotope_difference)\n",
    "print (\"Mass difference between Sulfer isotopes:\", Sulfer_isotope_difference)\n",
    "print (\"Relative deviation:\", 100*(Sulfer_isotope_difference -\n",
    "        Oxygen_isotope_difference)/Sulfer_isotope_difference, \"%\")"
   ]
  },
  {
   "cell_type": "code",
   "execution_count": 22,
   "id": "a499c798",
   "metadata": {},
   "outputs": [
    {
     "name": "stdout",
     "output_type": "stream",
     "text": [
      "Sum of masses of 2 protons, neutrons and electrons: 4.032979924670597\n",
      "Mass of He4: 4.00260325415\n",
      "Difference between the two masses: 0.7532065888743016 %\n"
     ]
    }
   ],
   "source": [
    "from pyopenms.Constants import *\n",
    "\n",
    "helium = ElementDB().getElement(\"He\")\n",
    "isotopes = helium.getIsotopeDistribution()\n",
    "\n",
    "mass_sum = 2*PROTON_MASS_U + 2*ELECTRON_MASS_U + 2*NEUTRON_MASS_U\n",
    "helium4 = isotopes.getContainer()[1].getMZ()\n",
    "print (\"Sum of masses of 2 protons, neutrons and electrons:\", mass_sum)\n",
    "print (\"Mass of He4:\", helium4)\n",
    "print (\"Difference between the two masses:\", 100*(mass_sum - helium4)/mass_sum, \"%\")"
   ]
  },
  {
   "cell_type": "code",
   "execution_count": 26,
   "id": "dc5adf1b",
   "metadata": {},
   "outputs": [
    {
     "name": "stdout",
     "output_type": "stream",
     "text": [
      "Ethanol molecular formula: C2H6O1\n",
      "Ethanol composition: {b'C': 2, b'H': 6, b'O': 1}\n",
      "Ethanol weight: 46.0418651914\n",
      "Ethanol has 6 hydrogen atoms\n",
      "Ethanol has 1 hydrogen atoms\n",
      "Ethanol has 2 hydrogen atoms\n"
     ]
    }
   ],
   "source": [
    "#Molecular Formula\n",
    "methanol = EmpiricalFormula(\"CH3OH\")\n",
    "water = EmpiricalFormula(\"H2O\")\n",
    "ethanol = EmpiricalFormula(\"CH2\") + methanol\n",
    "print(\"Ethanol molecular formula:\", ethanol.toString())\n",
    "print(\"Ethanol composition:\", ethanol.getElementalComposition())\n",
    "print(\"Ethanol weight:\", ethanol.getMonoWeight())\n",
    "print(\"Ethanol has\", ethanol.getElementalComposition()[b\"H\"], \"hydrogen atoms\")\n",
    "print(\"Ethanol has\", ethanol.getElementalComposition()[b\"O\"], \"hydrogen atoms\")\n",
    "print(\"Ethanol has\", ethanol.getElementalComposition()[b\"C\"], \"hydrogen atoms\")\n"
   ]
  },
  {
   "cell_type": "code",
   "execution_count": 25,
   "id": "5f9bb07c",
   "metadata": {},
   "outputs": [
    {
     "name": "stdout",
     "output_type": "stream",
     "text": [
      "Ethanol chemical formula: C2H6O1\n",
      "Ethanol composition: {b'C': 2, b'H': 6, b'O': 1}\n",
      "Ethanol weight: 46.0418651914\n"
     ]
    }
   ],
   "source": [
    "#Isotopes\n",
    "ethanol = EmpiricalFormula(\"C1CH6O\")\n",
    "print(\"Ethanol chemical formula:\", ethanol.toString())\n",
    "print(\"Ethanol composition:\", ethanol.getElementalComposition())\n",
    "print(\"Ethanol weight:\", ethanol.getMonoWeight())"
   ]
  },
  {
   "cell_type": "code",
   "execution_count": 27,
   "id": "99f77963",
   "metadata": {},
   "outputs": [
    {
     "name": "stdout",
     "output_type": "stream",
     "text": [
      "Isotope 46.0 has abundance 97.56627082824707 %\n",
      "Isotope 47.0 has abundance 2.214994840323925 %\n",
      "Isotope 48.0 has abundance 0.214216741733253 %\n",
      "Isotope 49.0 has abundance 0.0044886332034366205 %\n",
      "Isotope 50.0 has abundance 2.64924580051229e-05 %\n"
     ]
    }
   ],
   "source": [
    "isotopes = ethanol.getIsotopeDistribution( CoarseIsotopePatternGenerator(5, True) )\n",
    "for iso in isotopes.getContainer():\n",
    "    print (\"Isotope\", iso.getMZ(), \"has abundance\", iso.getIntensity()*100, \"%\")"
   ]
  },
  {
   "cell_type": "code",
   "execution_count": 28,
   "id": "7a915580",
   "metadata": {},
   "outputs": [],
   "source": [
    "#Amino Acid Modifications\n",
    "ldb = ResidueDB()\n",
    "lys = ldb.getResidue(\"Lysine\")"
   ]
  },
  {
   "cell_type": "code",
   "execution_count": 29,
   "id": "62541072",
   "metadata": {},
   "outputs": [
    {
     "name": "stdout",
     "output_type": "stream",
     "text": [
      "Lysine\n",
      "Lys\n",
      "K\n",
      "146.18788276708446\n",
      "146.1055284466\n",
      "2.16\n",
      "C6H14N2O2\n"
     ]
    }
   ],
   "source": [
    "print(lys.getName())\n",
    "print(lys.getThreeLetterCode())\n",
    "print(lys.getOneLetterCode())\n",
    "print(lys.getAverageWeight())\n",
    "print(lys.getMonoWeight())\n",
    "print(lys.getPka())\n",
    "print(lys.getFormula().toString())"
   ]
  },
  {
   "cell_type": "code",
   "execution_count": 32,
   "id": "c9fd2593",
   "metadata": {},
   "outputs": [
    {
     "name": "stdout",
     "output_type": "stream",
     "text": [
      "UniMod:35\n",
      "35\n",
      "15.994915\n",
      "Oxidation\n",
      "Oxidation (T)\n",
      "Oxidation or Hydroxylation\n",
      "O1\n"
     ]
    }
   ],
   "source": [
    "ox = ModificationsDB().getModification(\"Oxidation\")\n",
    "print(ox.getUniModAccession())\n",
    "print(ox.getUniModRecordId())\n",
    "print(ox.getDiffMonoMass())\n",
    "print(ox.getId())\n",
    "print(ox.getFullId())\n",
    "print(ox.getFullName())\n",
    "print(ox.getDiffFormula())"
   ]
  },
  {
   "cell_type": "code",
   "execution_count": 33,
   "id": "ee65ccfd",
   "metadata": {},
   "outputs": [
    {
     "name": "stdout",
     "output_type": "stream",
     "text": [
      "Isotope 15.994915 has abundance 99.75699782371521 %\n",
      "Isotope 16.998269837800002 has abundance 0.03800000122282654 %\n",
      "Isotope 18.0016246756 has abundance 0.20500000100582838 %\n"
     ]
    }
   ],
   "source": [
    "isotopes = ox.getDiffFormula().getIsotopeDistribution(CoarseIsotopePatternGenerator(5))\n",
    "for iso in isotopes.getContainer():\n",
    "    print (\"Isotope\", iso.getMZ(), \"has abundance\", iso.getIntensity()*100, \"%\")"
   ]
  },
  {
   "cell_type": "code",
   "execution_count": 34,
   "id": "9627c25d",
   "metadata": {},
   "outputs": [
    {
     "name": "stdout",
     "output_type": "stream",
     "text": [
      "uridine\n",
      "U\n",
      "244.2043\n",
      "244.0695\n",
      "C9H12N2O6\n",
      "False\n"
     ]
    }
   ],
   "source": [
    "#Ribonucleotides\n",
    "uracil = RibonucleotideDB().getRibonucleotide(b\"U\")\n",
    "print(uracil.getName())\n",
    "print(uracil.getCode())\n",
    "print(uracil.getAvgMass())\n",
    "print(uracil.getMonoMass())\n",
    "print(uracil.getFormula().toString())\n",
    "print(uracil.isModified())\n"
   ]
  },
  {
   "cell_type": "code",
   "execution_count": 35,
   "id": "cbca8e24",
   "metadata": {},
   "outputs": [
    {
     "name": "stdout",
     "output_type": "stream",
     "text": [
      "1-methyladenosine\n",
      "True\n"
     ]
    }
   ],
   "source": [
    "methyladenosine = RibonucleotideDB().getRibonucleotide(b\"m1A\")\n",
    "print(methyladenosine.getName())\n",
    "print(methyladenosine.isModified())"
   ]
  },
  {
   "cell_type": "code",
   "execution_count": 1,
   "id": "8338da97",
   "metadata": {},
   "outputs": [],
   "source": [
    "from pyopenms import *\n"
   ]
  },
  {
   "cell_type": "code",
   "execution_count": 4,
   "id": "fbee7d83",
   "metadata": {},
   "outputs": [
    {
     "data": {
      "text/plain": [
       "387.2481710527"
      ]
     },
     "execution_count": 4,
     "metadata": {},
     "output_type": "execute_result"
    }
   ],
   "source": [
    "seq = AASequence.fromString(\"VAKA\")\n",
    "mfull = seq.getMonoWeight()\n",
    "mfull"
   ]
  },
  {
   "cell_type": "code",
   "execution_count": 7,
   "id": "02c381a8",
   "metadata": {},
   "outputs": [
    {
     "name": "stdout",
     "output_type": "stream",
     "text": [
      "The peptide VAKA consists of the following amino acids:\n",
      "Valine : 117.0789793509\n",
      "Alanine : 89.04767922330001\n",
      "Lysine : 146.1055284466\n",
      "Alanine : 89.04767922330001\n",
      "441.2798662441\n"
     ]
    }
   ],
   "source": [
    "print(\"The peptide\",str(seq), \"consists of the following amino acids:\")\n",
    "sumOfMasses = 0\n",
    "for aa in seq:\n",
    "    print(aa.getName(), \":\", aa.getMonoWeight())\n",
    "    sumOfMasses = sumOfMasses + aa.getMonoWeight()\n",
    "print(sumOfMasses)"
   ]
  },
  {
   "cell_type": "code",
   "execution_count": null,
   "id": "560e755b",
   "metadata": {},
   "outputs": [],
   "source": []
  }
 ],
 "metadata": {
  "kernelspec": {
   "display_name": "Python 3 (ipykernel)",
   "language": "python",
   "name": "python3"
  },
  "language_info": {
   "codemirror_mode": {
    "name": "ipython",
    "version": 3
   },
   "file_extension": ".py",
   "mimetype": "text/x-python",
   "name": "python",
   "nbconvert_exporter": "python",
   "pygments_lexer": "ipython3",
   "version": "3.9.12"
  }
 },
 "nbformat": 4,
 "nbformat_minor": 5
}
